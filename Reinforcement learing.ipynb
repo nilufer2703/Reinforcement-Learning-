{
 "cells": [
  {
   "cell_type": "markdown",
   "metadata": {},
   "source": [
    "PROBLEM STATEMENT \n",
    "\n",
    "Reinforcement learning is being used in many disciplines from self-driving cars to chatbots. However, in a dynamic world, reinforcement learning could also be used to solve many of the world's pressing urgent issues. How do you think reinforcement learning could be used to accelerate the rate of progress towards solving one of the Sustainability and Development Goals formulated by the United Nations? Develop a Reinforcement Learning that can provide a feasible solution to one or many of the problems.\n"
   ]
  },
  {
   "cell_type": "code",
   "execution_count": 2,
   "metadata": {},
   "outputs": [],
   "source": [
    "import numpy as np\n",
    "\n",
    "class Environment:\n",
    "    def __init__(self, num_students, num_schools):\n",
    "        self.num_students = num_students\n",
    "        self.num_schools = num_schools\n",
    "        self.student_performance = np.random.rand(num_students)\n",
    "        self.school_resources = np.random.rand(num_schools)\n",
    "\n",
    "    def step(self, action):\n",
    "        improvement = np.mean(self.school_resources) * np.mean(self.student_performance)\n",
    "        reward = improvement\n",
    "        return reward\n",
    "\n",
    "class QLearningAgent:\n",
    "    def __init__(self, num_actions, learning_rate=0.1, discount_factor=0.9, exploration_rate=0.1):\n",
    "        self.num_actions = num_actions\n",
    "        self.learning_rate = learning_rate\n",
    "        self.discount_factor = discount_factor\n",
    "        self.exploration_rate = exploration_rate\n",
    "        self.q_table = np.zeros((num_students, num_actions))\n",
    "\n",
    "    def choose_action(self, state):\n",
    "        if np.random.rand() < self.exploration_rate:\n",
    "            return np.random.randint(self.num_actions)\n",
    "        else:\n",
    "            return np.argmax(self.q_table[state])\n",
    "\n",
    "    def update_q_table(self, state, action, reward, next_state):\n",
    "        td_target = reward + self.discount_factor * np.max(self.q_table[next_state])\n",
    "        td_error = td_target - self.q_table[state, action]\n",
    "        self.q_table[state, action] += self.learning_rate * td_error\n",
    "\n",
    "# Define parameters\n",
    "num_students = 100\n",
    "num_schools = 10\n",
    "num_actions = num_schools\n",
    "num_episodes = 1000\n",
    "\n",
    "# Initialize environment and agent\n",
    "env = Environment(num_students, num_schools)\n",
    "agent = QLearningAgent(num_actions)\n",
    "\n",
    "# Training loop\n",
    "for episode in range(num_episodes):\n",
    "    state = np.random.randint(num_students)\n",
    "    action = agent.choose_action(state)\n",
    "    reward = env.step(action)\n",
    "    next_state = np.random.randint(num_students)\n",
    "    agent.update_q_table(state, action, reward, next_state)\n"
   ]
  }
 ],
 "metadata": {
  "kernelspec": {
   "display_name": "base",
   "language": "python",
   "name": "python3"
  },
  "language_info": {
   "codemirror_mode": {
    "name": "ipython",
    "version": 3
   },
   "file_extension": ".py",
   "mimetype": "text/x-python",
   "name": "python",
   "nbconvert_exporter": "python",
   "pygments_lexer": "ipython3",
   "version": "3.10.9"
  }
 },
 "nbformat": 4,
 "nbformat_minor": 2
}
